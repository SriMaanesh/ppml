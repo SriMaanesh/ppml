{
 "cells": [
  {
   "cell_type": "code",
   "execution_count": 7,
   "id": "257b0f3a",
   "metadata": {},
   "outputs": [
    {
     "name": "stdout",
     "output_type": "stream",
     "text": [
      "        a   b   c\n",
      "one    41  39  67\n",
      "two     3   7  13\n",
      "three  43  37  98\n"
     ]
    }
   ],
   "source": [
    "import pandas as pd\n",
    "df=pd.DataFrame([[41,39,67],[3,7,13],[43,37,98]]\n",
    ",index=['one','two','three'],columns=['a','b','c'])\n",
    "print(df)"
   ]
  },
  {
   "cell_type": "code",
   "execution_count": 10,
   "id": "6c0dcaf0",
   "metadata": {},
   "outputs": [
    {
     "name": "stdout",
     "output_type": "stream",
     "text": [
      "Taking the input from dataframe and storing in the excel file\n"
     ]
    }
   ],
   "source": [
    "print(\"Taking the input from dataframe and storing in the excel file\")\n",
    "df.to_excel('C:/Users/TCS/Downloads/maanesh.xlsx')"
   ]
  },
  {
   "cell_type": "code",
   "execution_count": 12,
   "id": "ba269954",
   "metadata": {},
   "outputs": [
    {
     "name": "stdout",
     "output_type": "stream",
     "text": [
      "       a   b    c\n",
      "four   7  18   45\n",
      "five   3   6    9\n",
      "six   85  98  100\n"
     ]
    }
   ],
   "source": [
    "df=pd.DataFrame([[7,18,45],[3,6,9],[85,98,100]]\n",
    ",index=['four','five','six'],columns=['a','b','c'])\n",
    "df.to_excel('C:/Users/TCS/Downloads/maaneshnew.xlsx')\n",
    "print(df)"
   ]
  },
  {
   "cell_type": "code",
   "execution_count": 14,
   "id": "909f3479",
   "metadata": {},
   "outputs": [
    {
     "name": "stdout",
     "output_type": "stream",
     "text": [
      "  Unnamed: 0   a   b    c\n",
      "1        two   3   7   13\n",
      "1       five   3   6    9\n",
      "0       four   7  18   45\n",
      "0        one  41  39   67\n",
      "2      three  43  37   98\n",
      "2        six  85  98  100\n"
     ]
    },
    {
     "name": "stderr",
     "output_type": "stream",
     "text": [
      "C:\\Users\\TCS\\AppData\\Local\\Temp\\ipykernel_6508\\196662836.py:3: FutureWarning: The frame.append method is deprecated and will be removed from pandas in a future version. Use pandas.concat instead.\n",
      "  z=x.append(y)\n"
     ]
    }
   ],
   "source": [
    "x=pd.read_excel('C:/Users/TCS/Downloads/maanesh.xlsx')\n",
    "y=pd.read_excel('C:/Users/TCS/Downloads/maaneshnew.xlsx')\n",
    "z=x.append(y)\n",
    "z.to_excel('C:/Users/TCS/Downloads/maaneshmerge.xlsx')\n",
    "df=z.sort_values([\"a\"])\n",
    "print(df)\n",
    "df.to_excel('C:/Users/TCS/Downloads/maaneshsort.xlsx') "
   ]
  },
  {
   "cell_type": "code",
   "execution_count": null,
   "id": "90b135ec",
   "metadata": {},
   "outputs": [],
   "source": []
  }
 ],
 "metadata": {
  "kernelspec": {
   "display_name": "Python 3 (ipykernel)",
   "language": "python",
   "name": "python3"
  },
  "language_info": {
   "codemirror_mode": {
    "name": "ipython",
    "version": 3
   },
   "file_extension": ".py",
   "mimetype": "text/x-python",
   "name": "python",
   "nbconvert_exporter": "python",
   "pygments_lexer": "ipython3",
   "version": "3.9.12"
  }
 },
 "nbformat": 4,
 "nbformat_minor": 5
}
