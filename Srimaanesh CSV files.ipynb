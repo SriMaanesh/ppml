{
 "cells": [
  {
   "cell_type": "code",
   "execution_count": 3,
   "id": "9324f256",
   "metadata": {},
   "outputs": [
    {
     "name": "stdout",
     "output_type": "stream",
     "text": [
      "    First Name  Gender  Start Date Last Login Time  Salary  Bonus %  \\\n",
      "0      Douglas    Male    8/6/1993        12:42 PM   97308    6.945   \n",
      "1       Thomas    Male   3/31/1996         6:53 AM   61933    4.170   \n",
      "2        Maria  Female   4/23/1993        11:17 AM  130590   11.858   \n",
      "3        Jerry    Male    3/4/2005         1:00 PM  138705    9.340   \n",
      "4        Larry    Male   1/24/1998         4:47 PM  101004    1.389   \n",
      "..         ...     ...         ...             ...     ...      ...   \n",
      "995      Henry     NaN  11/23/2014         6:09 AM  132483   16.655   \n",
      "996    Phillip    Male   1/31/1984         6:30 AM   42392   19.675   \n",
      "997    Russell    Male   5/20/2013        12:39 PM   96914    1.421   \n",
      "998      Larry    Male   4/20/2013         4:45 PM   60500   11.985   \n",
      "999     Albert    Male   5/15/2012         6:24 PM  129949   10.169   \n",
      "\n",
      "    Senior Management                  Team  \n",
      "0                True             Marketing  \n",
      "1                True                   NaN  \n",
      "2               False               Finance  \n",
      "3                True               Finance  \n",
      "4                True       Client Services  \n",
      "..                ...                   ...  \n",
      "995             False          Distribution  \n",
      "996             False               Finance  \n",
      "997             False               Product  \n",
      "998             False  Business Development  \n",
      "999              True                 Sales  \n",
      "\n",
      "[1000 rows x 8 columns]\n"
     ]
    }
   ],
   "source": [
    "import pandas as pd\n",
    "import numpy as np\n",
    "d=pd.read_csv(r\"C:\\Users\\TCS\\Desktop\\employees - employees.csv\")\n",
    "print(d)"
   ]
  },
  {
   "cell_type": "code",
   "execution_count": 4,
   "id": "1442156a",
   "metadata": {},
   "outputs": [
    {
     "name": "stdout",
     "output_type": "stream",
     "text": [
      "    First Name  Gender  Start Date Last Login Time  Salary  Bonus %  \\\n",
      "0      Douglas    Male    8/6/1993        12:42 PM   97308    6.945   \n",
      "1       Thomas    Male   3/31/1996         6:53 AM   61933    4.170   \n",
      "2        Maria  Female   4/23/1993        11:17 AM  130590   11.858   \n",
      "3        Jerry    Male    3/4/2005         1:00 PM  138705    9.340   \n",
      "4        Larry    Male   1/24/1998         4:47 PM  101004    1.389   \n",
      "..         ...     ...         ...             ...     ...      ...   \n",
      "995      Henry     NaN  11/23/2014         6:09 AM  132483   16.655   \n",
      "996    Phillip    Male   1/31/1984         6:30 AM   42392   19.675   \n",
      "997    Russell    Male   5/20/2013        12:39 PM   96914    1.421   \n",
      "998      Larry    Male   4/20/2013         4:45 PM   60500   11.985   \n",
      "999     Albert    Male   5/15/2012         6:24 PM  129949   10.169   \n",
      "\n",
      "    Senior Management                  Team  \n",
      "0                True             Marketing  \n",
      "1                True                   NaN  \n",
      "2               False               Finance  \n",
      "3                True               Finance  \n",
      "4                True       Client Services  \n",
      "..                ...                   ...  \n",
      "995             False          Distribution  \n",
      "996             False               Finance  \n",
      "997             False               Product  \n",
      "998             False  Business Development  \n",
      "999              True                 Sales  \n",
      "\n",
      "[1000 rows x 8 columns]\n"
     ]
    }
   ],
   "source": [
    "df=pd.DataFrame(d)\n",
    "print(df)"
   ]
  },
  {
   "cell_type": "code",
   "execution_count": 5,
   "id": "f02b90be",
   "metadata": {},
   "outputs": [
    {
     "name": "stdout",
     "output_type": "stream",
     "text": [
      "(1000, 8)\n"
     ]
    }
   ],
   "source": [
    "print(df.shape)"
   ]
  },
  {
   "cell_type": "code",
   "execution_count": 8,
   "id": "75a3a4e5",
   "metadata": {},
   "outputs": [
    {
     "name": "stdout",
     "output_type": "stream",
     "text": [
      "0      Douglas\n",
      "1       Thomas\n",
      "2        Maria\n",
      "3        Jerry\n",
      "4        Larry\n",
      "        ...   \n",
      "995      Henry\n",
      "996    Phillip\n",
      "997    Russell\n",
      "998      Larry\n",
      "999     Albert\n",
      "Name: First Name, Length: 1000, dtype: object\n"
     ]
    }
   ],
   "source": [
    "print(df['First Name'])"
   ]
  },
  {
   "cell_type": "code",
   "execution_count": 11,
   "id": "199eb333",
   "metadata": {},
   "outputs": [
    {
     "name": "stdout",
     "output_type": "stream",
     "text": [
      "   First Name  Gender  Start Date Last Login Time  Salary  Bonus %  \\\n",
      "2       Maria  Female   4/23/1993        11:17 AM  130590   11.858   \n",
      "5      Dennis    Male   4/18/1987         1:35 AM  115163   10.125   \n",
      "8      Angela  Female  11/22/2005         6:29 AM   95570   18.523   \n",
      "11      Julie  Female  10/26/1997         3:19 PM  102508   12.637   \n",
      "14   Kimberly  Female   1/14/1999         7:13 AM   41426   14.543   \n",
      "17      Shawn    Male   12/7/1986         7:45 PM  111737    6.414   \n",
      "20       Lois     NaN   4/22/1995         7:18 PM   64714    4.934   \n",
      "23        NaN    Male   6/14/2012         4:19 PM  125792    5.042   \n",
      "26      Craig    Male   2/27/2000         7:45 AM   37598    7.757   \n",
      "29   Benjamin    Male   1/26/2005        10:06 PM   79529    7.008   \n",
      "32        NaN    Male   8/21/1998         2:27 PM  122340    6.417   \n",
      "35    Theresa  Female  10/10/2006         1:12 AM   85182   16.675   \n",
      "38  Stephanie  Female   9/13/1986         1:52 AM   36844    5.574   \n",
      "41  Christine     NaN   6/28/2015         1:08 AM   66582   11.308   \n",
      "44    Cynthia  Female  11/16/1988         6:54 PM  145146    7.482   \n",
      "47      Kathy  Female   6/22/2005         4:51 AM   66820    9.000   \n",
      "\n",
      "   Senior Management                  Team  \n",
      "2              False               Finance  \n",
      "5              False                 Legal  \n",
      "8               True           Engineering  \n",
      "11              True                 Legal  \n",
      "14              True               Finance  \n",
      "17             False               Product  \n",
      "20              True                 Legal  \n",
      "23               NaN                   NaN  \n",
      "26              True             Marketing  \n",
      "29              True                 Legal  \n",
      "32               NaN                   NaN  \n",
      "35             False                 Sales  \n",
      "38              True  Business Development  \n",
      "41              True  Business Development  \n",
      "44              True               Product  \n",
      "47              True       Client Services  \n"
     ]
    }
   ],
   "source": [
    "print(df[2:50:3])"
   ]
  },
  {
   "cell_type": "code",
   "execution_count": 14,
   "id": "2b9d272a",
   "metadata": {},
   "outputs": [
    {
     "name": "stdout",
     "output_type": "stream",
     "text": [
      "First Name               Irene\n",
      "Gender                     NaN\n",
      "Start Date           7/14/2015\n",
      "Last Login Time        4:31 PM\n",
      "Salary                  100863\n",
      "Bonus %                  4.382\n",
      "Senior Management         True\n",
      "Team                   Finance\n",
      "Name: 69, dtype: object\n"
     ]
    }
   ],
   "source": [
    "print(df.loc[69])"
   ]
  },
  {
   "cell_type": "code",
   "execution_count": 15,
   "id": "f997e816",
   "metadata": {},
   "outputs": [
    {
     "name": "stdout",
     "output_type": "stream",
     "text": [
      "First Name                      Christine\n",
      "Gender                                NaN\n",
      "Start Date                      6/28/2015\n",
      "Last Login Time                   1:08 AM\n",
      "Salary                              66582\n",
      "Bonus %                            11.308\n",
      "Senior Management                    True\n",
      "Team                 Business Development\n",
      "Name: 41, dtype: object\n"
     ]
    }
   ],
   "source": [
    "print(df.loc[41])"
   ]
  },
  {
   "cell_type": "code",
   "execution_count": 6,
   "id": "5b7a420f",
   "metadata": {},
   "outputs": [
    {
     "name": "stdout",
     "output_type": "stream",
     "text": [
      "   First Name  Gender Start Date Last Login Time  Salary  Bonus %  \\\n",
      "14   Kimberly  Female  1/14/1999         7:13 AM   41426   14.543   \n",
      "\n",
      "   Senior Management     Team  \n",
      "14              True  Finance  \n"
     ]
    }
   ],
   "source": [
    "import pandas as pd\n",
    "import numpy as np\n",
    "d=pd.read_csv(r\"C:\\Users\\TCS\\Desktop\\employees - employees.csv\")\n",
    "print(d.loc[d['Salary']==41426])"
   ]
  },
  {
   "cell_type": "code",
   "execution_count": null,
   "id": "e90aae6f",
   "metadata": {},
   "outputs": [],
   "source": []
  },
  {
   "cell_type": "code",
   "execution_count": null,
   "id": "8d1a42b9",
   "metadata": {},
   "outputs": [],
   "source": []
  },
  {
   "cell_type": "code",
   "execution_count": null,
   "id": "46a7e6c0",
   "metadata": {},
   "outputs": [],
   "source": []
  }
 ],
 "metadata": {
  "kernelspec": {
   "display_name": "Python 3 (ipykernel)",
   "language": "python",
   "name": "python3"
  },
  "language_info": {
   "codemirror_mode": {
    "name": "ipython",
    "version": 3
   },
   "file_extension": ".py",
   "mimetype": "text/x-python",
   "name": "python",
   "nbconvert_exporter": "python",
   "pygments_lexer": "ipython3",
   "version": "3.9.12"
  }
 },
 "nbformat": 4,
 "nbformat_minor": 5
}
