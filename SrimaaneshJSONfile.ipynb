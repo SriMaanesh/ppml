{
 "cells": [
  {
   "cell_type": "code",
   "execution_count": 1,
   "id": "e72472b8",
   "metadata": {},
   "outputs": [],
   "source": [
    "f=open(\"D:textfile.txt\",'w')"
   ]
  },
  {
   "cell_type": "code",
   "execution_count": 2,
   "id": "3d4fd4e4",
   "metadata": {},
   "outputs": [],
   "source": [
    "f.write(\"first line\\n\")\n",
    "f.write(\"Second line\\n\")\n",
    "f.write(\"Third line\\n\")\n",
    "f.close()\n",
    "\n",
    "\n"
   ]
  },
  {
   "cell_type": "code",
   "execution_count": 3,
   "id": "da708975",
   "metadata": {},
   "outputs": [
    {
     "name": "stdout",
     "output_type": "stream",
     "text": [
      "first line\n",
      "\n",
      "Second line\n",
      "\n",
      "Third line\n",
      "\n"
     ]
    }
   ],
   "source": [
    "k=open(\"D:textfile.txt\",'r')\n",
    "print(k.readline())\n",
    "print(k.readline())\n",
    "print(k.readline())\n",
    "k.close()"
   ]
  },
  {
   "cell_type": "code",
   "execution_count": 7,
   "id": "19e0bff9",
   "metadata": {},
   "outputs": [],
   "source": [
    "m=open(\"D:textfile.txt\",'a')\n",
    "m.write(\"fourth line\\n\")\n",
    "m.write(\"fifth line\\n\")\n",
    "m.close()\n"
   ]
  },
  {
   "cell_type": "code",
   "execution_count": 8,
   "id": "a95470c9",
   "metadata": {},
   "outputs": [
    {
     "name": "stdout",
     "output_type": "stream",
     "text": [
      "first line\n",
      "Second line\n",
      "Third line\n",
      "fourth linefifth linefourth line\n",
      "fifth line\n",
      "fourth line\n",
      "fifth line\n",
      "fourth line\n",
      "fifth line\n",
      "\n"
     ]
    }
   ],
   "source": [
    "p=open(\"D:textfile.txt\",'r')\n",
    "print(p.read())\n",
    "p.close()\n"
   ]
  },
  {
   "cell_type": "code",
   "execution_count": 9,
   "id": "320bbf5c",
   "metadata": {},
   "outputs": [
    {
     "name": "stdout",
     "output_type": "stream",
     "text": [
      "['first line\\n', 'Second line\\n', 'Third line\\n', 'fourth linefifth linefourth line\\n', 'fifth line\\n', 'fourth line\\n', 'fifth line\\n', 'fourth line\\n', 'fifth line\\n']\n"
     ]
    }
   ],
   "source": [
    "with open(\"D:textfile.txt\",'r')as file:\n",
    "    lines=file.readlines()\n",
    "    print(lines)"
   ]
  },
  {
   "cell_type": "code",
   "execution_count": 10,
   "id": "7504b993",
   "metadata": {},
   "outputs": [
    {
     "name": "stdout",
     "output_type": "stream",
     "text": [
      "30\n"
     ]
    }
   ],
   "source": [
    "import json\n",
    "x='{\"name\":\"John\",\"age\":30,\"city\":\"New York\"}'\n",
    "y=json.loads(x)\n",
    "print(y[\"age\"])\n"
   ]
  },
  {
   "cell_type": "code",
   "execution_count": 11,
   "id": "65a6b906",
   "metadata": {},
   "outputs": [
    {
     "data": {
      "text/plain": [
       "{'name': 'john', 'age': 30, 'city': 'NetYork'}"
      ]
     },
     "execution_count": 11,
     "metadata": {},
     "output_type": "execute_result"
    }
   ],
   "source": [
    "x\n",
    "{\n",
    "    \"name\":\"john\",\n",
    "    \"age\":30,\n",
    "    \"city\":\"NetYork\"\n",
    "}"
   ]
  },
  {
   "cell_type": "code",
   "execution_count": 12,
   "id": "191daf49",
   "metadata": {},
   "outputs": [
    {
     "name": "stdout",
     "output_type": "stream",
     "text": [
      "\"{\\\"name\\\":\\\"John\\\",\\\"age\\\":30,\\\"city\\\":\\\"New York\\\"}\"\n"
     ]
    }
   ],
   "source": [
    "y=json.dumps(x)\n",
    "print(y)"
   ]
  },
  {
   "cell_type": "code",
   "execution_count": null,
   "id": "3adcb32c",
   "metadata": {},
   "outputs": [],
   "source": []
  }
 ],
 "metadata": {
  "kernelspec": {
   "display_name": "Python 3 (ipykernel)",
   "language": "python",
   "name": "python3"
  },
  "language_info": {
   "codemirror_mode": {
    "name": "ipython",
    "version": 3
   },
   "file_extension": ".py",
   "mimetype": "text/x-python",
   "name": "python",
   "nbconvert_exporter": "python",
   "pygments_lexer": "ipython3",
   "version": "3.9.12"
  }
 },
 "nbformat": 4,
 "nbformat_minor": 5
}
