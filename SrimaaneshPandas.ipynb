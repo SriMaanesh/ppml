{
 "cells": [
  {
   "cell_type": "code",
   "execution_count": 55,
   "id": "63cb949c",
   "metadata": {},
   "outputs": [
    {
     "name": "stdout",
     "output_type": "stream",
     "text": [
      "Empty DataFrame\n",
      "Columns: []\n",
      "Index: []\n"
     ]
    }
   ],
   "source": [
    "import pandas as pd\n",
    "import numpy as np\n",
    "data=pd.DataFrame()\n",
    "print(data)"
   ]
  },
  {
   "cell_type": "code",
   "execution_count": 21,
   "id": "f87ec955",
   "metadata": {},
   "outputs": [
    {
     "name": "stdout",
     "output_type": "stream",
     "text": [
      "      NAME   ID\n",
      "0  Sooriya  105\n",
      "1  Sathees  188\n",
      "2   Yogesh   37\n",
      "3    Tamil  101\n"
     ]
    }
   ],
   "source": [
    "Name=pd.Series(['Sooriya','Sathees','Yogesh','Tamil'])\n",
    "Id=pd.Series([105,188,37,101])\n",
    "frame={'NAME':Name,'ID':Id}\n",
    "result=pd.DataFrame(frame)\n",
    "print(result)"
   ]
  },
  {
   "cell_type": "code",
   "execution_count": 22,
   "id": "cdd1eabf",
   "metadata": {},
   "outputs": [
    {
     "name": "stdout",
     "output_type": "stream",
     "text": [
      "0    Sooriya\n",
      "1    Sathees\n",
      "2     Yogesh\n",
      "3      Tamil\n",
      "Name: NAME, dtype: object\n"
     ]
    }
   ],
   "source": [
    "print(result['NAME'])"
   ]
  },
  {
   "cell_type": "code",
   "execution_count": 24,
   "id": "759d45cf",
   "metadata": {},
   "outputs": [
    {
     "name": "stdout",
     "output_type": "stream",
     "text": [
      "      NAME   ID  AGE\n",
      "0  Sooriya  105   35\n",
      "1  Sathees  188   40\n",
      "2   Yogesh   37   23\n",
      "3    Tamil  101   54\n"
     ]
    }
   ],
   "source": [
    "result['AGE']=pd.Series([35,40,23,54])\n",
    "print(result)"
   ]
  },
  {
   "cell_type": "code",
   "execution_count": 25,
   "id": "6f231c09",
   "metadata": {},
   "outputs": [
    {
     "name": "stdout",
     "output_type": "stream",
     "text": [
      "      NAME  AGE\n",
      "0  Sooriya   35\n",
      "1  Sathees   40\n",
      "2   Yogesh   23\n",
      "3    Tamil   54\n"
     ]
    }
   ],
   "source": [
    "del result['ID']\n",
    "print(result)"
   ]
  },
  {
   "cell_type": "code",
   "execution_count": 26,
   "id": "bc412f29",
   "metadata": {},
   "outputs": [
    {
     "name": "stdout",
     "output_type": "stream",
     "text": [
      "NAME    Sathees\n",
      "AGE          40\n",
      "Name: 1, dtype: object\n"
     ]
    }
   ],
   "source": [
    "print(result.loc[1])"
   ]
  },
  {
   "cell_type": "code",
   "execution_count": 27,
   "id": "c33b63f8",
   "metadata": {},
   "outputs": [
    {
     "name": "stdout",
     "output_type": "stream",
     "text": [
      "      NAME  AGE\n",
      "1  Sathees   40\n",
      "2   Yogesh   23\n",
      "3    Tamil   54\n"
     ]
    }
   ],
   "source": [
    "print(result[1:4])"
   ]
  },
  {
   "cell_type": "code",
   "execution_count": null,
   "id": "e5faf63b",
   "metadata": {},
   "outputs": [],
   "source": []
  },
  {
   "cell_type": "code",
   "execution_count": 42,
   "id": "1c90bf77",
   "metadata": {},
   "outputs": [
    {
     "name": "stdout",
     "output_type": "stream",
     "text": [
      "      NAME  AGE\n",
      "0  Sooriya   35\n",
      "1  Sathees   40\n",
      "3    Tamil   54\n"
     ]
    }
   ],
   "source": [
    "print(result.drop(2))"
   ]
  },
  {
   "cell_type": "code",
   "execution_count": 43,
   "id": "3b375978",
   "metadata": {},
   "outputs": [
    {
     "name": "stdout",
     "output_type": "stream",
     "text": [
      "   A  B\n",
      "0  5  3\n",
      "1  5  3\n",
      "2  5  3\n",
      "3  5  3\n"
     ]
    }
   ],
   "source": [
    "import pandas as sm\n",
    "import numpy as ms\n",
    "data=sm.DataFrame([[5,3]]*4,columns=['A','B'])\n",
    "print(data)"
   ]
  },
  {
   "cell_type": "code",
   "execution_count": 44,
   "id": "3bc98d7b",
   "metadata": {},
   "outputs": [
    {
     "name": "stdout",
     "output_type": "stream",
     "text": [
      "    A   C\n",
      "0  48  69\n",
      "1  48  69\n",
      "2  48  69\n"
     ]
    }
   ],
   "source": [
    "data=sm.DataFrame([[48,69]]*3,columns=['A','C'])\n",
    "print(data)"
   ]
  },
  {
   "cell_type": "code",
   "execution_count": 51,
   "id": "59fac186",
   "metadata": {},
   "outputs": [],
   "source": [
    "data=sm.DataFrame([[5,3,9],[4,8,2],[3,1,6]],columns=['A','B','C'])"
   ]
  },
  {
   "cell_type": "code",
   "execution_count": 46,
   "id": "35dbf3f5",
   "metadata": {},
   "outputs": [
    {
     "name": "stdout",
     "output_type": "stream",
     "text": [
      "      NAME  ROLL NO\n",
      "0  Sooriya      105\n",
      "1  Vignesh      115\n"
     ]
    }
   ],
   "source": [
    "data=sm.DataFrame([['Sooriya',105],['Vignesh',115]],columns=['NAME','ROLL NO'])\n",
    "print(data)"
   ]
  },
  {
   "cell_type": "code",
   "execution_count": 47,
   "id": "21eb8cc4",
   "metadata": {},
   "outputs": [
    {
     "name": "stdout",
     "output_type": "stream",
     "text": [
      "     A  B  C\n",
      "min  3  1  2\n",
      "max  5  8  9\n"
     ]
    }
   ],
   "source": [
    "data=sm.DataFrame([[5,3,9],[4,8,2],[3,1,6]],columns=['A','B','C',])\n",
    "print(data.agg(['min','max']))"
   ]
  },
  {
   "cell_type": "code",
   "execution_count": 7,
   "id": "f6e8268c",
   "metadata": {},
   "outputs": [
    {
     "name": "stdout",
     "output_type": "stream",
     "text": [
      "      NAME  ROLL NO  AGE\n",
      "0  Sooriya      105   18\n",
      "1  Vignesh      115   19\n"
     ]
    }
   ],
   "source": [
    "import pandas as sm\n",
    "data=sm.DataFrame([['Sooriya',105],['Vignesh',115]],columns=['NAME','ROLL NO'])\n",
    "data['AGE']=[18,19]\n",
    "print(data)"
   ]
  },
  {
   "cell_type": "code",
   "execution_count": 15,
   "id": "0de109c1",
   "metadata": {},
   "outputs": [
    {
     "name": "stdout",
     "output_type": "stream",
     "text": [
      "0    C\n",
      "1    O\n",
      "2    M\n",
      "3    P\n",
      "4    U\n",
      "5    T\n",
      "6    E\n",
      "7    R\n",
      "dtype: object\n"
     ]
    }
   ],
   "source": [
    "import pandas as pd\n",
    "import numpy as sm\n",
    "array=np.array(['C','O','M','P','U','T','E','R'])\n",
    "a=pd.Series(array)\n",
    "print(a)"
   ]
  },
  {
   "cell_type": "code",
   "execution_count": 16,
   "id": "590acf03",
   "metadata": {},
   "outputs": [
    {
     "name": "stdout",
     "output_type": "stream",
     "text": [
      "0    E\n",
      "1    n\n",
      "2    t\n",
      "3    e\n",
      "4    r\n",
      "dtype: object\n"
     ]
    }
   ],
   "source": [
    "array=np.array(['E','n','t','e','r'])\n",
    "a=pd.Series(array)\n",
    "print(a)"
   ]
  },
  {
   "cell_type": "code",
   "execution_count": 4,
   "id": "006485e4",
   "metadata": {},
   "outputs": [
    {
     "name": "stdout",
     "output_type": "stream",
     "text": [
      "a    0.0\n",
      "b    1.0\n",
      "c    2.0\n",
      "d    3.0\n",
      "dtype: float64\n"
     ]
    }
   ],
   "source": [
    "import pandas as pd\n",
    "import numpy as sm\n",
    "array={'a':0.,'b':1.,'c':2.,'d':3.}\n",
    "a=pd.Series(array)\n",
    "print(a)"
   ]
  },
  {
   "cell_type": "code",
   "execution_count": 5,
   "id": "1899e0cd",
   "metadata": {},
   "outputs": [
    {
     "name": "stdout",
     "output_type": "stream",
     "text": [
      "5    69\n",
      "6    69\n",
      "8    69\n",
      "dtype: int64\n"
     ]
    }
   ],
   "source": [
    "x=pd.Series(69,index=[5,6,8])\n",
    "print(x)"
   ]
  },
  {
   "cell_type": "code",
   "execution_count": 7,
   "id": "adb0be96",
   "metadata": {},
   "outputs": [
    {
     "name": "stdout",
     "output_type": "stream",
     "text": [
      "0     63\n",
      "1     65\n",
      "2    106\n",
      "3    108\n",
      "dtype: int64\n",
      "RangeIndex(start=0, stop=4, step=1)\n",
      "[ 63  65 106 108]\n",
      "(4,)\n",
      "1\n",
      "4\n"
     ]
    }
   ],
   "source": [
    "a=pd.Series(data=[63,65,106,108])\n",
    "print(a)\n",
    "print(a.index)\n",
    "print(a.values)\n",
    "print(a.shape)\n",
    "print(a.ndim)\n",
    "print(a.size)"
   ]
  },
  {
   "cell_type": "code",
   "execution_count": null,
   "id": "924afdeb",
   "metadata": {},
   "outputs": [],
   "source": []
  }
 ],
 "metadata": {
  "kernelspec": {
   "display_name": "Python 3 (ipykernel)",
   "language": "python",
   "name": "python3"
  },
  "language_info": {
   "codemirror_mode": {
    "name": "ipython",
    "version": 3
   },
   "file_extension": ".py",
   "mimetype": "text/x-python",
   "name": "python",
   "nbconvert_exporter": "python",
   "pygments_lexer": "ipython3",
   "version": "3.9.12"
  }
 },
 "nbformat": 4,
 "nbformat_minor": 5
}
